{
 "cells": [
  {
   "cell_type": "markdown",
   "metadata": {},
   "source": [
    "This exercise will require you to pull some data from the Qunadl API. Qaundl is currently the most widely used aggregator of financial market data."
   ]
  },
  {
   "cell_type": "markdown",
   "metadata": {},
   "source": [
    "As a first step, you will need to register a free account on the http://www.quandl.com website."
   ]
  },
  {
   "cell_type": "markdown",
   "metadata": {},
   "source": [
    "After you register, you will be provided with a unique API key, that you should store:"
   ]
  },
  {
   "cell_type": "code",
   "execution_count": 1,
   "metadata": {},
   "outputs": [],
   "source": [
    "# Store the API key as a string - according to PEP8, constants are always named in all upper case\n",
    "API_KEY = ''"
   ]
  },
  {
   "cell_type": "markdown",
   "metadata": {},
   "source": [
    "Qaundl has a large number of data sources, but, unfortunately, most of them require a Premium subscription. Still, there are also a good number of free datasets."
   ]
  },
  {
   "cell_type": "markdown",
   "metadata": {},
   "source": [
    "For this mini project, we will focus on equities data from the Frankfurt Stock Exhange (FSE), which is available for free. We'll try and analyze the stock prices of a company called Carl Zeiss Meditec, which manufactures tools for eye examinations, as well as medical lasers for laser eye surgery: https://www.zeiss.com/meditec/int/home.html. The company is listed under the stock ticker AFX_X."
   ]
  },
  {
   "cell_type": "markdown",
   "metadata": {},
   "source": [
    "You can find the detailed Quandl API instructions here: https://docs.quandl.com/docs/time-series"
   ]
  },
  {
   "cell_type": "markdown",
   "metadata": {},
   "source": [
    "While there is a dedicated Python package for connecting to the Quandl API, we would prefer that you use the *requests* package, which can be easily downloaded using *pip* or *conda*. You can find the documentation for the package here: http://docs.python-requests.org/en/master/ "
   ]
  },
  {
   "cell_type": "markdown",
   "metadata": {},
   "source": [
    "Finally, apart from the *requests* package, you are encouraged to not use any third party Python packages, such as *pandas*, and instead focus on what's available in the Python Standard Library (the *collections* module might come in handy: https://pymotw.com/3/collections/ ).\n",
    "Also, since you won't have access to DataFrames, you are encouraged to us Python's native data structures - preferably dictionaries, though some questions can also be answered using lists.\n",
    "You can read more on these data structures here: https://docs.python.org/3/tutorial/datastructures.html"
   ]
  },
  {
   "cell_type": "markdown",
   "metadata": {},
   "source": [
    "Keep in mind that the JSON responses you will be getting from the API map almost one-to-one to Python's dictionaries. Unfortunately, they can be very nested, so make sure you read up on indexing dictionaries in the documentation provided above."
   ]
  },
  {
   "cell_type": "code",
   "execution_count": 2,
   "metadata": {},
   "outputs": [],
   "source": [
    "# First, import the relevant modules\n",
    "import requests\n",
    "import json\n",
    "import collections"
   ]
  },
  {
   "cell_type": "code",
   "execution_count": 3,
   "metadata": {},
   "outputs": [
    {
     "name": "stdout",
     "output_type": "stream",
     "text": [
      "Response OK\n"
     ]
    }
   ],
   "source": [
    "# Now, call the Quandl API and pull out a small sample of the data (only one day) to get a glimpse\n",
    "# into the JSON structure that will be returned\n",
    "# Request - can be used ex: 'collapse=daily&rows=10&order=asc&column_index=1'\n",
    "req = 'https://www.quandl.com/api/v3/datasets/FSE/AFX_X/data.json?'\n",
    "req += 'rows=1'\n",
    "req += '&api_key=' + API_KEY\n",
    "\n",
    "res = requests.get(req)\n",
    "if res:\n",
    "    print('Response OK')\n",
    "else:\n",
    "    print('Response Failed')"
   ]
  },
  {
   "cell_type": "code",
   "execution_count": 4,
   "metadata": {},
   "outputs": [
    {
     "name": "stdout",
     "output_type": "stream",
     "text": [
      "Date  =  Thu, 05 Nov 2020 15:41:56 GMT\n",
      "Content-Type  =  application/json; charset=utf-8\n",
      "Content-Length  =  279\n",
      "Connection  =  keep-alive\n",
      "Set-Cookie  =  __cfduid=df7fa9bf6e98b0d44db88f5b04e0c9c941604590915; expires=Sat, 05-Dec-20 15:41:55 GMT; path=/; domain=.quandl.com; HttpOnly; SameSite=Lax; Secure\n",
      "Allow  =  GET, HEAD, POST, PUT, DELETE, OPTIONS, PATCH\n",
      "Cache-Control  =  max-age=0, private, must-revalidate\n",
      "Content-Encoding  =  gzip\n",
      "ETag  =  W/\"8bd82afd61b5dac628503b1a46be6e24\"\n",
      "Vary  =  Origin\n",
      "X-Content-Type-Options  =  nosniff\n",
      "X-Frame-Options  =  SAMEORIGIN\n",
      "X-Rack-CORS  =  miss; no-origin\n",
      "X-RateLimit-Limit  =  50000\n",
      "X-RateLimit-Remaining  =  49999\n",
      "X-Request-Id  =  d854ff40-319c-4451-be8a-3359e0f72c26\n",
      "X-Runtime  =  0.114598\n",
      "X-XSS-Protection  =  1; mode=block\n",
      "CF-Cache-Status  =  DYNAMIC\n",
      "cf-request-id  =  063aab693f00000cc5c93ec000000001\n",
      "Expect-CT  =  max-age=604800, report-uri=\"https://report-uri.cloudflare.com/cdn-cgi/beacon/expect-ct\"\n",
      "Report-To  =  {\"endpoints\":[{\"url\":\"https:\\/\\/a.nel.cloudflare.com\\/report?s=%2B0bYh3fzQSfcNiDLfILSBWufLTFvCoYfFRgGnCtyMeylRqimOEoNyAmIj3%2FJuLxtXv32K68Y7aA%2FkyNmstJSKqiUbDQ0JtT9%2BarPmt9LwVcMc6pPFdWPA1KX%2FQ%3D%3D\"}],\"group\":\"cf-nel\",\"max_age\":604800}\n",
      "NEL  =  {\"report_to\":\"cf-nel\",\"max_age\":604800}\n",
      "Server  =  cloudflare\n",
      "CF-RAY  =  5ed7ae8868880cc5-EWR\n"
     ]
    }
   ],
   "source": [
    "# Inspect the JSON structure of the object you created, and take note of how nested it is,\n",
    "# as well as the overall structure\n",
    "json_structure = res.headers\n",
    "\n",
    "# Structure\n",
    "for k, v in json_structure.items():\n",
    "    print(k, ' = ', v)"
   ]
  },
  {
   "cell_type": "code",
   "execution_count": 5,
   "metadata": {},
   "outputs": [
    {
     "name": "stdout",
     "output_type": "stream",
     "text": [
      "{'dataset_data': {'limit': 1, 'transform': None, 'column_index': None, 'column_names': ['Date', 'Open', 'High', 'Low', 'Close', 'Change', 'Traded Volume', 'Turnover', 'Last Price of the Day', 'Daily Traded Units', 'Daily Turnover'], 'start_date': '2000-06-07', 'end_date': '2020-10-16', 'frequency': 'daily', 'data': [['2020-10-16', 118.0, 122.2, 117.8, 121.9, None, 186442.0, 22578015.5, None, None, None]], 'collapse': None, 'order': None}}\n"
     ]
    }
   ],
   "source": [
    "# JSON response\n",
    "json = res.json()\n",
    "print(json)"
   ]
  },
  {
   "cell_type": "code",
   "execution_count": 6,
   "metadata": {},
   "outputs": [
    {
     "name": "stdout",
     "output_type": "stream",
     "text": [
      "<class 'dict'>\n"
     ]
    }
   ],
   "source": [
    "# Print Type of variable\n",
    "print(type(json))"
   ]
  },
  {
   "cell_type": "markdown",
   "metadata": {},
   "source": [
    "These are your tasks for this mini project:\n",
    "\n",
    "1. Collect data from the Franfurt Stock Exchange, for the ticker AFX_X, for the whole year 2017 (keep in mind that the date format is YYYY-MM-DD).\n",
    "2. Convert the returned JSON object into a Python dictionary.\n",
    "3. Calculate what the highest and lowest opening prices were for the stock in this period.\n",
    "4. What was the largest change in any one day (based on High and Low price)?\n",
    "5. What was the largest change between any two days (based on Closing Price)?\n",
    "6. What was the average daily trading volume during this year?\n",
    "7. (Optional) What was the median trading volume during this year. (Note: you may need to implement your own function for calculating the median.)"
   ]
  },
  {
   "cell_type": "markdown",
   "metadata": {
    "collapsed": true
   },
   "source": [
    "#### Collect data from the Franfurt Stock Exchange, for the ticker AFX_X, for the whole year 2017"
   ]
  },
  {
   "cell_type": "code",
   "execution_count": 7,
   "metadata": {},
   "outputs": [
    {
     "name": "stdout",
     "output_type": "stream",
     "text": [
      "Response OK\n"
     ]
    }
   ],
   "source": [
    "# Quandl API for Frankfurt Stock Exhange (FSE)\n",
    "# and Carl Zeiss Meditec - AFX_X, year 2017\n",
    "\n",
    "req = 'https://www.quandl.com/api/v3/datasets/FSE/AFX_X/data.json?'\n",
    "req += 'start_date=2017-01-01&end_date=2017-12-31&order=asc'\n",
    "req += '&api_key=' + API_KEY\n",
    "\n",
    "res = requests.get(req)\n",
    "if res:\n",
    "    print('Response OK')\n",
    "else:\n",
    "    print('Response Failed')"
   ]
  },
  {
   "cell_type": "markdown",
   "metadata": {
    "collapsed": true
   },
   "source": [
    "#### Convert the returned JSON object into a Python dictionary."
   ]
  },
  {
   "cell_type": "code",
   "execution_count": 8,
   "metadata": {},
   "outputs": [
    {
     "name": "stdout",
     "output_type": "stream",
     "text": [
      "<class 'dict'>\n"
     ]
    }
   ],
   "source": [
    "# JSON response\n",
    "json_file = res.json()\n",
    "\n",
    "print(type(json_file))"
   ]
  },
  {
   "cell_type": "code",
   "execution_count": 9,
   "metadata": {},
   "outputs": [],
   "source": [
    "# Find the Structure\n",
    "ds_list = list(json_file.keys())\n",
    "keys_list = []\n",
    "values_list = []\n",
    "\n",
    "# Save the Keys and Values of the Dataset\n",
    "for k, v in json_file.items():\n",
    "        for k1, v1 in v.items():\n",
    "            keys_list.append(k1)\n",
    "            values_list.append(v1)"
   ]
  },
  {
   "cell_type": "code",
   "execution_count": 10,
   "metadata": {},
   "outputs": [
    {
     "data": {
      "text/plain": [
       "['limit',\n",
       " 'transform',\n",
       " 'column_index',\n",
       " 'column_names',\n",
       " 'start_date',\n",
       " 'end_date',\n",
       " 'frequency',\n",
       " 'data',\n",
       " 'collapse',\n",
       " 'order']"
      ]
     },
     "execution_count": 10,
     "metadata": {},
     "output_type": "execute_result"
    }
   ],
   "source": [
    "# Checking the keys\n",
    "keys_list"
   ]
  },
  {
   "cell_type": "code",
   "execution_count": 11,
   "metadata": {},
   "outputs": [
    {
     "name": "stdout",
     "output_type": "stream",
     "text": [
      "['Date', 'Open', 'High', 'Low', 'Close', 'Change', 'Traded Volume', 'Turnover', 'Last Price of the Day', 'Daily Traded Units', 'Daily Turnover']\n"
     ]
    }
   ],
   "source": [
    "# Saving the Columns Names\n",
    "columns = values_list[keys_list.index('column_names')]\n",
    "print(columns)"
   ]
  },
  {
   "cell_type": "code",
   "execution_count": 12,
   "metadata": {},
   "outputs": [],
   "source": [
    "# Saving the data as a new list\n",
    "data = values_list[keys_list.index('data')]    "
   ]
  },
  {
   "cell_type": "code",
   "execution_count": 13,
   "metadata": {},
   "outputs": [
    {
     "data": {
      "text/plain": [
       "255"
      ]
     },
     "execution_count": 13,
     "metadata": {},
     "output_type": "execute_result"
    }
   ],
   "source": [
    "# And how long is the data?\n",
    "len(data)"
   ]
  },
  {
   "cell_type": "markdown",
   "metadata": {},
   "source": [
    "#### Calculate what the highest and lowest opening prices were for the stock in this period."
   ]
  },
  {
   "cell_type": "code",
   "execution_count": 14,
   "metadata": {},
   "outputs": [],
   "source": [
    "# Extracting Lows values from the Dataset\n",
    "lows = []\n",
    "for row in data:\n",
    "    lows.append(float(row[columns.index('Low')]))\n",
    "    \n",
    "# Extracting Highs values from the Dataset\n",
    "highs = []\n",
    "for row in data:\n",
    "    highs.append(float(row[columns.index('High')]))\n",
    "        "
   ]
  },
  {
   "cell_type": "code",
   "execution_count": 15,
   "metadata": {},
   "outputs": [],
   "source": [
    "# Copying and sorting the Low Prices and High Prices\n",
    "lows_ord = lows[:]\n",
    "highs_ord = highs[:]\n",
    "\n",
    "# Order Lows and Highs\n",
    "lows_ord.sort()\n",
    "highs_ord.sort()"
   ]
  },
  {
   "cell_type": "code",
   "execution_count": 16,
   "metadata": {},
   "outputs": [
    {
     "name": "stdout",
     "output_type": "stream",
     "text": [
      "Lowest opening price 33.62 highest opening price 53.54\n"
     ]
    }
   ],
   "source": [
    "print('Lowest opening price {} highest opening price {}'.format(lows_ord[0],highs_ord[-1]))"
   ]
  },
  {
   "cell_type": "markdown",
   "metadata": {
    "collapsed": true
   },
   "source": [
    "#### What was the largest change in any one day (based on High and Low price)?"
   ]
  },
  {
   "cell_type": "code",
   "execution_count": 17,
   "metadata": {},
   "outputs": [
    {
     "name": "stdout",
     "output_type": "stream",
     "text": [
      "The largest change in any one day was 2.810000\n"
     ]
    }
   ],
   "source": [
    "# Finding the difference or range form low and high prices using zip\n",
    "# understanding that for one day is the difference found at the same day\n",
    "zip_prices = zip(lows, highs)\n",
    "range_prices = []\n",
    "\n",
    "# Find the difference between High price and low price \n",
    "for low, high in zip_prices:\n",
    "    range_prices.append(high-low)\n",
    "\n",
    "# Sort the result to find the largest change    \n",
    "range_prices.sort()\n",
    "print('The largest change in any one day was {:2f}'.format(range_prices[-1]))"
   ]
  },
  {
   "cell_type": "markdown",
   "metadata": {
    "collapsed": true
   },
   "source": [
    "#### What was the largest change between any two days (based on Closing Price)?"
   ]
  },
  {
   "cell_type": "code",
   "execution_count": 18,
   "metadata": {},
   "outputs": [
    {
     "name": "stdout",
     "output_type": "stream",
     "text": [
      "The largest change between any two days was 1.720000\n"
     ]
    }
   ],
   "source": [
    "# Finding the difference for any two days\n",
    "# understanding that is two BUSINESS days is how I open one day and how I close the next one\n",
    "\n",
    "# Closing price\n",
    "closing = []\n",
    "for row in data:\n",
    "    closing.append(float(row[columns.index('Close')]))\n",
    "\n",
    "# To take the second day we use the next position on the list (i+1) and substract the value for the i\n",
    "closing_dif = []\n",
    "for i in range(0,len(closing)-1):\n",
    "    closing_dif.append(closing[i+1]-closing[i])\n",
    "    \n",
    "# Sort the result list to now min - max     \n",
    "closing_dif.sort()\n",
    "\n",
    "# Print the max value - largest change\n",
    "print('The largest change between any two days was {:2f}'.format(closing_dif[-1]))"
   ]
  },
  {
   "cell_type": "markdown",
   "metadata": {
    "collapsed": true
   },
   "source": [
    "#### What was the average daily trading volume during this year?"
   ]
  },
  {
   "cell_type": "code",
   "execution_count": 19,
   "metadata": {},
   "outputs": [
    {
     "name": "stdout",
     "output_type": "stream",
     "text": [
      "The average daily trading during 2017 year was  89475.22\n"
     ]
    }
   ],
   "source": [
    "# Trading Volume List\n",
    "trading = []\n",
    "for row in data:\n",
    "    trading.append(float(row[columns.index('Traded Volume')]))\n",
    "    \n",
    "# Find the Average = Total trading/Nro. Tradings\n",
    "# Nro. Tradings is the len of the List - 1 (Start from 0)\n",
    "Average = sum(trading)/(len(trading)-1)\n",
    "\n",
    "# Print the Average daily trading during the year\n",
    "print('The average daily trading during 2017 year was  {:.2f}'.format(Average))"
   ]
  },
  {
   "cell_type": "markdown",
   "metadata": {},
   "source": [
    "#### (Optional) \n",
    "What was the median trading volume during this year. \n",
    "(Note: you may need to implement your own function for calculating the median.)"
   ]
  },
  {
   "cell_type": "code",
   "execution_count": 20,
   "metadata": {},
   "outputs": [
    {
     "name": "stdout",
     "output_type": "stream",
     "text": [
      "The median daily trading during 2017 year was  76286.00\n"
     ]
    }
   ],
   "source": [
    "# Copy of trading to sort it\n",
    "trading_ord = trading[:]\n",
    "trading_ord.sort()\n",
    "\n",
    "# Find the median, the middle point will be the half point of the trading list\n",
    "# and nro. tradings is the len of the List - 1 (Start from 0)\n",
    "\n",
    "middle = len(trading)-1\n",
    "median_p = int((middle)/2)\n",
    "\n",
    "# If the middle point of the list is even, the position found is the index of the median\n",
    "# If not the median is the average from that index, and the next one divided by two\n",
    "if middle%2 == 0:\n",
    "    trading_median = trading_ord[median_p]\n",
    "else:\n",
    "    trading_median = (trading_ord[median_p]+trading_ord[median_p + 1])/2\n",
    "\n",
    "# Print the median daily trading during the year\n",
    "print('The median daily trading during 2017 year was  {:.2f}'.format(trading_median))"
   ]
  }
 ],
 "metadata": {
  "kernelspec": {
   "display_name": "Python 3",
   "language": "python",
   "name": "python3"
  },
  "language_info": {
   "codemirror_mode": {
    "name": "ipython",
    "version": 3
   },
   "file_extension": ".py",
   "mimetype": "text/x-python",
   "name": "python",
   "nbconvert_exporter": "python",
   "pygments_lexer": "ipython3",
   "version": "3.7.6"
  }
 },
 "nbformat": 4,
 "nbformat_minor": 2
}
